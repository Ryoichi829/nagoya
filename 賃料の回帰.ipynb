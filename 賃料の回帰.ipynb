{
  "cells": [
    {
      "cell_type": "markdown",
      "id": "5f117f6b",
      "metadata": {
        "id": "5f117f6b"
      },
      "source": [
        "### <font color='green'>**データセットの作成（データを読み込む）**</font>"
      ]
    },
    {
      "cell_type": "code",
      "execution_count": null,
      "id": "fe00fc3a",
      "metadata": {
        "id": "fe00fc3a"
      },
      "outputs": [],
      "source": [
        "import pandas as pd\n",
        "file_id = '1nMSXcEkgGe_3nQif1ZnBjF1HmZCZbmi-'\n",
        "url = f'https://drive.google.com/uc?id={file_id}'\n",
        "df = pd.read_csv(url, encoding='Shift_JIS')\n",
        "df.head()"
      ]
    },
    {
      "cell_type": "markdown",
      "id": "0c70a810",
      "metadata": {
        "id": "0c70a810"
      },
      "source": [
        "### <font color='green'>**データの前処理（散布図を描く）**</font>"
      ]
    },
    {
      "cell_type": "code",
      "source": [
        "!pip install japanize-matplotlib -q"
      ],
      "metadata": {
        "id": "vgGDRfZdy_wJ"
      },
      "id": "vgGDRfZdy_wJ",
      "execution_count": null,
      "outputs": []
    },
    {
      "cell_type": "code",
      "execution_count": null,
      "id": "fb5bae00",
      "metadata": {
        "id": "fb5bae00"
      },
      "outputs": [],
      "source": [
        "import matplotlib.pyplot as plt\n",
        "import japanize_matplotlib\n",
        "\n",
        "chinryo = df['賃料'].to_list()\n",
        "menseki = df['専有面積'].to_list()\n",
        "plt.scatter(chinryo,menseki)\n",
        "plt.title('散布図')\n",
        "plt.xlabel('賃料')\n",
        "plt.ylabel('専有面積')\n",
        "plt.show()"
      ]
    },
    {
      "cell_type": "markdown",
      "id": "d6e46aff",
      "metadata": {
        "id": "d6e46aff"
      },
      "source": [
        "### <font color='green'>**データの分割（トレーニング用（train）とテスト用（test））に分割する**</font>"
      ]
    },
    {
      "cell_type": "code",
      "execution_count": null,
      "id": "9bfb302e",
      "metadata": {
        "id": "9bfb302e"
      },
      "outputs": [],
      "source": [
        "from sklearn.model_selection import train_test_split\n",
        "X = df.iloc[:,:-1]\n",
        "y = df.iloc[:,-1]\n",
        "X_train, X_test, y_train, y_test = train_test_split(X, y, test_size=0.3, random_state=722)"
      ]
    },
    {
      "cell_type": "markdown",
      "id": "5e418226",
      "metadata": {
        "id": "5e418226"
      },
      "source": [
        "### <font color='green'>**アルゴリズムの選択（ここでは決定木を選択）**</font>"
      ]
    },
    {
      "cell_type": "code",
      "execution_count": null,
      "id": "3729e3c8",
      "metadata": {
        "id": "3729e3c8"
      },
      "outputs": [],
      "source": [
        "from sklearn.tree import DecisionTreeRegressor\n",
        "tree = DecisionTreeRegressor()\n"
      ]
    },
    {
      "cell_type": "markdown",
      "source": [
        "### <font color='green'>**モデルの学習（トレーニング）**</font>"
      ],
      "metadata": {
        "id": "Lkg6poroMmSS"
      },
      "id": "Lkg6poroMmSS"
    },
    {
      "cell_type": "code",
      "source": [
        "tree.fit(X_train, y_train)"
      ],
      "metadata": {
        "id": "0kxunPLzMzol"
      },
      "id": "0kxunPLzMzol",
      "execution_count": null,
      "outputs": []
    },
    {
      "cell_type": "markdown",
      "id": "821abe28",
      "metadata": {
        "id": "821abe28"
      },
      "source": [
        "#### <font color='green'>**モデルのスコアリング・評価**</font>"
      ]
    },
    {
      "cell_type": "code",
      "execution_count": null,
      "id": "8a9939bf",
      "metadata": {
        "id": "8a9939bf"
      },
      "outputs": [],
      "source": [
        "from sklearn.metrics import mean_absolute_error\n",
        "from sklearn.metrics import root_mean_squared_error\n",
        "from sklearn.metrics import r2_score\n",
        "print('------------ トレーニングデータでの評価 ------------')\n",
        "pred_train = tree.predict(X_train)\n",
        "print('平均絶対誤差（MAE）:', mean_absolute_error(y_train, pred_train))\n",
        "print('二乗平均平方根誤差（RMSE）:', root_mean_squared_error(y_train, pred_train))\n",
        "print('決定係数（R2スコア）:', r2_score(y_train, pred_train))\n",
        "print('------------ テストデータでの評価 ------------')\n",
        "pred_test = tree.predict(X_test)\n",
        "print('平均絶対誤差（MAE）:', mean_absolute_error(y_test, pred_test))\n",
        "print('二乗平均平方根誤差（RMSE）:', root_mean_squared_error(y_test, pred_test))\n",
        "print('決定係数（R2スコア）:', r2_score(y_test, pred_test))"
      ]
    }
  ],
  "metadata": {
    "kernelspec": {
      "display_name": "Python 3 (ipykernel)",
      "language": "python",
      "name": "python3"
    },
    "language_info": {
      "codemirror_mode": {
        "name": "ipython",
        "version": 3
      },
      "file_extension": ".py",
      "mimetype": "text/x-python",
      "name": "python",
      "nbconvert_exporter": "python",
      "pygments_lexer": "ipython3",
      "version": "3.11.5"
    },
    "colab": {
      "provenance": []
    }
  },
  "nbformat": 4,
  "nbformat_minor": 5
}