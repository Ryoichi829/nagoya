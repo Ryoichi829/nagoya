{
  "cells": [
    {
      "cell_type": "markdown",
      "id": "83ad450c",
      "metadata": {
        "id": "83ad450c"
      },
      "source": [
        "## 課題：乾燥豆データセットで豆の種類を予測する分類モデルの構築"
      ]
    },
    {
      "cell_type": "markdown",
      "id": "64b7e720",
      "metadata": {
        "id": "64b7e720"
      },
      "source": [
        "### <font color='green'>**データセットの作成（データを読み込む）**</font>"
      ]
    },
    {
      "cell_type": "code",
      "execution_count": null,
      "id": "995876ff",
      "metadata": {
        "id": "995876ff"
      },
      "outputs": [],
      "source": [
        "import pandas as pd\n",
        "file_id = '1ZrezRcoHm3WEHZS0ao2pBH6Jd1uaAkui'\n",
        "url = f'https://drive.google.com/uc?id={file_id}'\n",
        "df = pd.read_csv(url)\n",
        "df.head()"
      ]
    },
    {
      "cell_type": "markdown",
      "id": "52feff40",
      "metadata": {
        "id": "52feff40"
      },
      "source": [
        "### <font color='green'>**データの前処理（散布図を描く）**</font>"
      ]
    },
    {
      "cell_type": "code",
      "execution_count": null,
      "id": "211619ba",
      "metadata": {
        "id": "211619ba"
      },
      "outputs": [],
      "source": [
        "# MajorAxisLengthとMinorAxisLengthの散布図を描く。Calssで色別にする。\n",
        "sns.scatterplot(x='MajorAxisLength', y='MinorAxisLength', hue='Class', data=df)\n",
        "plt.show()"
      ]
    },
    {
      "cell_type": "markdown",
      "id": "3bf68344",
      "metadata": {
        "id": "3bf68344"
      },
      "source": [
        "#### **特徴量（X）とラベル（y）をセットする**"
      ]
    },
    {
      "cell_type": "code",
      "execution_count": null,
      "id": "1d581f51",
      "metadata": {
        "id": "1d581f51"
      },
      "outputs": [],
      "source": [
        "X = df.iloc[:, :-1]\n",
        "y = df.iloc[:, -1]"
      ]
    },
    {
      "cell_type": "code",
      "execution_count": null,
      "id": "511bfddb",
      "metadata": {
        "id": "511bfddb"
      },
      "outputs": [],
      "source": [
        "y_mapping = {'DERMASON':0, 'SIRA':1, 'SEKER':2, 'HOROZ':3,\n",
        "             'CALI':4, 'BARBUNYA':5, 'BOMBAY':6}\n",
        "y = y.map(y_mapping)"
      ]
    },
    {
      "cell_type": "markdown",
      "id": "698f2d31",
      "metadata": {
        "id": "698f2d31"
      },
      "source": [
        "#### **ラベル（y）のユニークな要素の出現回数を求める**"
      ]
    },
    {
      "cell_type": "code",
      "execution_count": null,
      "id": "ca3d68cb",
      "metadata": {
        "id": "ca3d68cb"
      },
      "outputs": [],
      "source": [
        "y.value_counts()"
      ]
    },
    {
      "cell_type": "markdown",
      "id": "771a61af",
      "metadata": {
        "id": "771a61af"
      },
      "source": [
        "### <font color='green'>**データの分割（トレーニング用（train）とテスト用（test））に分割する**</font>"
      ]
    },
    {
      "cell_type": "code",
      "execution_count": null,
      "id": "52aba419",
      "metadata": {
        "id": "52aba419"
      },
      "outputs": [],
      "source": [
        "from sklearn.model_selection import train_test_split\n",
        "X_train, X_test, y_train, y_test = train_test_split(X, y, test_size=0.2)"
      ]
    },
    {
      "cell_type": "markdown",
      "id": "eaa680f4",
      "metadata": {
        "id": "eaa680f4"
      },
      "source": [
        "### <font color='green'>**アルゴリズムの選択（ここではランダムフォレストを選択）**</font>"
      ]
    },
    {
      "cell_type": "code",
      "execution_count": null,
      "id": "1b858ab3",
      "metadata": {
        "id": "1b858ab3"
      },
      "outputs": [],
      "source": [
        "from sklearn.ensemble import RandomForestClassifier\n",
        "model = RandomForestClassifier()"
      ]
    },
    {
      "cell_type": "markdown",
      "id": "25e625d5",
      "metadata": {
        "id": "25e625d5"
      },
      "source": [
        "### <font color='green'>**モデルの学習（トレーニング）**</font>"
      ]
    },
    {
      "cell_type": "code",
      "execution_count": null,
      "id": "4e394061",
      "metadata": {
        "id": "4e394061"
      },
      "outputs": [],
      "source": [
        "model.fit(X_train, y_train)"
      ]
    },
    {
      "cell_type": "markdown",
      "id": "f42dc5e8",
      "metadata": {
        "id": "f42dc5e8"
      },
      "source": [
        "### <font color='green'>**モデルのスコアリング・評価**</font>"
      ]
    },
    {
      "cell_type": "code",
      "execution_count": null,
      "id": "c17ed002",
      "metadata": {
        "id": "c17ed002"
      },
      "outputs": [],
      "source": [
        "from sklearn.metrics import confusion_matrix\n",
        "from sklearn.metrics import accuracy_score"
      ]
    },
    {
      "cell_type": "markdown",
      "id": "623d3c5c",
      "metadata": {
        "id": "623d3c5c"
      },
      "source": [
        "#### **トレーニング用データで評価する（正解率、混同行列を書く）**"
      ]
    },
    {
      "cell_type": "code",
      "execution_count": null,
      "id": "0156c150",
      "metadata": {
        "id": "0156c150"
      },
      "outputs": [],
      "source": [
        "train_predict = model.predict(X_train)\n",
        "print('accuracy_score:',accuracy_score(y_train, train_predict))\n",
        "cm = confusion_matrix(y_train, train_predict)\n",
        "plt.figure(figsize=(15, 8))\n",
        "sns.heatmap(cm, annot=True, fmt='d')\n",
        "plt.xticks([0.5, 1.5, 2.5, 3.5, 4.5, 5.5, 6.5],\n",
        "           ['DERMASON', 'SIRA', 'SEKER', 'HOROZ', 'CALI', 'BARBUNYA', 'BOMBAY'])\n",
        "plt.yticks([0.5, 1.5, 2.5, 3.5, 4.5, 5.5, 6.5],\n",
        "           ['DERMASON', 'SIRA', 'SEKER', 'HOROZ', 'CALI', 'BARBUNYA', 'BOMBAY'])\n",
        "plt.show()"
      ]
    },
    {
      "cell_type": "markdown",
      "id": "66468ccd",
      "metadata": {
        "id": "66468ccd"
      },
      "source": [
        "#### **テストデータで評価する（正解率、混同行列を書く）**"
      ]
    },
    {
      "cell_type": "code",
      "execution_count": null,
      "id": "26d4003b",
      "metadata": {
        "id": "26d4003b"
      },
      "outputs": [],
      "source": [
        "test_predict = model.predict(X_test)\n",
        "print('accuracy_score:',accuracy_score(y_test, test_predict))\n",
        "cm = confusion_matrix(y_test, test_predict)\n",
        "plt.figure(figsize=(15, 8))\n",
        "sns.heatmap(cm, annot=True, fmt='d')\n",
        "plt.xticks([0.5, 1.5, 2.5, 3.5, 4.5, 5.5, 6.5],\n",
        "           ['DERMASON', 'SIRA', 'SEKER', 'HOROZ', 'CALI', 'BARBUNYA', 'BOMBAY'])\n",
        "plt.yticks([0.5, 1.5, 2.5, 3.5, 4.5, 5.5, 6.5],\n",
        "           ['DERMASON', 'SIRA', 'SEKER', 'HOROZ', 'CALI', 'BARBUNYA', 'BOMBAY'])\n",
        "plt.show()"
      ]
    }
  ],
  "metadata": {
    "kernelspec": {
      "display_name": "Python 3 (ipykernel)",
      "language": "python",
      "name": "python3"
    },
    "language_info": {
      "codemirror_mode": {
        "name": "ipython",
        "version": 3
      },
      "file_extension": ".py",
      "mimetype": "text/x-python",
      "name": "python",
      "nbconvert_exporter": "python",
      "pygments_lexer": "ipython3",
      "version": "3.11.5"
    },
    "colab": {
      "provenance": []
    }
  },
  "nbformat": 4,
  "nbformat_minor": 5
}