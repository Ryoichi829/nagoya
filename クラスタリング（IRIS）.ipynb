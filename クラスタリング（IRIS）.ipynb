{
  "cells": [
    {
      "cell_type": "markdown",
      "metadata": {
        "id": "0WUZ6z_6yuRy"
      },
      "source": [
        "## <font color='green'>**アヤメのクラスター分析**</font>"
      ]
    },
    {
      "cell_type": "markdown",
      "metadata": {
        "id": "YjkhDM-fyuR1"
      },
      "source": [
        "### 今回使用するデータ\n",
        "scikit_learnのIRISを使います。  \n",
        "\n",
        "データセットは以下のようになっています。  \n",
        "150件のデータが格納され、特徴量は以下のようになっています。  \n",
        "・がく片の長さ  \n",
        "・がく片の幅  \n",
        "・花びらの長さ  \n",
        "・花びらの幅  \n",
        "正解データ（y）は、アヤメの品種（3種類）となっている  \n",
        "内訳は、0:セトーサが50件、1：ヴァーシカラーが50件　、2：ヴァージニカが50件"
      ]
    },
    {
      "cell_type": "markdown",
      "metadata": {
        "id": "UIvC4TOVyuR1"
      },
      "source": [
        "### やりたいこと\n",
        "4つの特徴量から3つの品種にグルーピングすること  \n",
        "（正解データ（y）はグルーピングには使わない）"
      ]
    },
    {
      "cell_type": "markdown",
      "metadata": {
        "id": "VNB4PNujyuR1"
      },
      "source": [
        "#### **アヤメ（IRIS)のデータセットを作成する**"
      ]
    },
    {
      "cell_type": "code",
      "source": [
        "# 以下を実行せよ\n",
        "!pip install japanize_matplotlib -q"
      ],
      "metadata": {
        "id": "Iv_upTI3zNwb"
      },
      "execution_count": null,
      "outputs": []
    },
    {
      "cell_type": "code",
      "execution_count": null,
      "metadata": {
        "id": "2_VyyXuPyuR2"
      },
      "outputs": [],
      "source": [
        "# 以下を実行せよ\n",
        "%matplotlib inline\n",
        "import pandas as pd\n",
        "import numpy as np\n",
        "import matplotlib.pyplot as plt\n",
        "import japanize_matplotlib\n",
        "import seaborn as sns\n",
        "from sklearn.datasets import load_iris\n",
        "from sklearn.cluster import KMeans\n",
        "dataset = load_iris()\n",
        "X = pd.DataFrame(dataset.data, columns=['がく片の長さ','がく片の幅','花びらの長さ','花びらの幅'])\n",
        "y = pd.DataFrame(dataset.target, columns=['y'])\n",
        "iris = X.join(y)\n",
        "iris.head()"
      ]
    },
    {
      "cell_type": "markdown",
      "metadata": {
        "id": "YKHxEVJ9yuR4"
      },
      "source": [
        "#### **irisの品種ごとの統計量を表示せよ**"
      ]
    },
    {
      "cell_type": "code",
      "execution_count": null,
      "metadata": {
        "id": "iorIyKfqyuR4"
      },
      "outputs": [],
      "source": [
        "iris.groupby('y').mean()"
      ]
    },
    {
      "cell_type": "markdown",
      "metadata": {
        "id": "F0NhippByuR4"
      },
      "source": [
        "#### **特徴量（X）をnumpyの配列に変換せよ**\n",
        "- to_numpy()を使う\n",
        "- 変換後の変数名はX_arraryとする"
      ]
    },
    {
      "cell_type": "code",
      "execution_count": null,
      "metadata": {
        "id": "ypCsCriqyuR4"
      },
      "outputs": [],
      "source": [
        "X_array = X.to_numpy()"
      ]
    },
    {
      "cell_type": "markdown",
      "metadata": {
        "id": "sI29E_icyuR4"
      },
      "source": [
        "#### **クラスタ数が1から5までのエルボー図を描け**\n",
        "ヒント：\n",
        "- 横軸がクラスタ数、クラスタ重心点と縦軸がクラスタ所属点の距離の総和\n",
        "- クラスタ重心点とクラスタ所属点の距離の総和は、inertia_で取得する\n",
        "- グラフのタイトルは「エルボー図」とする"
      ]
    },
    {
      "cell_type": "code",
      "execution_count": null,
      "metadata": {
        "id": "eXJk-VKLyuR4"
      },
      "outputs": [],
      "source": [
        "distortions = []\n",
        "for i in range(1,6):\n",
        "    km=KMeans(n_clusters=i, random_state=0).fit(X_array)\n",
        "    distortions.append(km.inertia_)\n",
        "\n",
        "plt.plot(range(1,6), distortions, marker='o')\n",
        "plt.xticks([1, 2, 3, 4, 5],['1', '2', '3', '4', '5'])\n",
        "plt.title('エルボー図')"
      ]
    },
    {
      "cell_type": "markdown",
      "source": [
        "#### <font color='red'>**注意：K平均法はいくつのクラスター(集団)に分けるかあらかじめ指定しておく必要がある。**</font>"
      ],
      "metadata": {
        "id": "bAxg7kxK23Q6"
      }
    },
    {
      "cell_type": "markdown",
      "metadata": {
        "id": "7jhnX7EMyuR4"
      },
      "source": [
        "#### **最適と思われるクラスター数を決定し、モデルを作成する**"
      ]
    },
    {
      "cell_type": "code",
      "execution_count": null,
      "metadata": {
        "id": "SQjjNBk2yuR4"
      },
      "outputs": [],
      "source": [
        "km=KMeans(n_clusters=3, random_state=1).fit(X_array)\n",
        "cluster_no = km.predict(X_array)\n",
        "iris['cluster_no'] = cluster_no"
      ]
    },
    {
      "cell_type": "markdown",
      "metadata": {
        "id": "vBP4Ek9XyuR5"
      },
      "source": [
        "#### **クラスター番号を値別にカウントする。**"
      ]
    },
    {
      "cell_type": "code",
      "execution_count": null,
      "metadata": {
        "id": "2fWOWYjjyuR5"
      },
      "outputs": [],
      "source": [
        "iris['cluster_no'].value_counts()"
      ]
    },
    {
      "cell_type": "markdown",
      "metadata": {
        "id": "kGgGsU45yuR5"
      },
      "source": [
        "#### **Cluster_noで色分けし、「花びらの長さ」と「花びらの幅」の散布図を作成する**\n",
        "- scatterplotを使う\n",
        "- 色分けはhueを使う\n",
        "- paletteはSet1を使う"
      ]
    },
    {
      "cell_type": "code",
      "execution_count": null,
      "metadata": {
        "id": "WLYoGBGdyuR5"
      },
      "outputs": [],
      "source": [
        "sns.scatterplot(x='花びらの長さ', y='花びらの幅', hue='cluster_no', data=iris, palette='Set1')"
      ]
    },
    {
      "cell_type": "markdown",
      "metadata": {
        "id": "bghGpyl3yuR5"
      },
      "source": [
        "#### **品種で色分けし、「花びらの長さ」と「花びらの幅」の散布図を作成する**"
      ]
    },
    {
      "cell_type": "code",
      "execution_count": null,
      "metadata": {
        "id": "cvGPlJQdyuR5"
      },
      "outputs": [],
      "source": [
        "sns.scatterplot(x='花びらの長さ', y='花びらの幅', hue='y', data=iris, palette='Set1')"
      ]
    },
    {
      "cell_type": "code",
      "execution_count": null,
      "metadata": {
        "id": "bG_JAigMyuR5"
      },
      "outputs": [],
      "source": []
    }
  ],
  "metadata": {
    "kernelspec": {
      "display_name": "Python 3 (ipykernel)",
      "language": "python",
      "name": "python3"
    },
    "language_info": {
      "codemirror_mode": {
        "name": "ipython",
        "version": 3
      },
      "file_extension": ".py",
      "mimetype": "text/x-python",
      "name": "python",
      "nbconvert_exporter": "python",
      "pygments_lexer": "ipython3",
      "version": "3.11.5"
    },
    "toc": {
      "base_numbering": 1,
      "nav_menu": {},
      "number_sections": true,
      "sideBar": true,
      "skip_h1_title": false,
      "title_cell": "Table of Contents",
      "title_sidebar": "Contents",
      "toc_cell": false,
      "toc_position": {},
      "toc_section_display": true,
      "toc_window_display": false
    },
    "colab": {
      "provenance": []
    }
  },
  "nbformat": 4,
  "nbformat_minor": 0
}